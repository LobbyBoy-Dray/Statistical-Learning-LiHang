{
 "cells": [
  {
   "cell_type": "markdown",
   "metadata": {},
   "source": [
    "# 第3章 k近邻法"
   ]
  },
  {
   "cell_type": "markdown",
   "metadata": {},
   "source": [
    "> * k-nearest neighbor, k-NN。一种基本的分类与回归方法。本节只讨论分类问题中的K-NN法。\n",
    "> * 输入：实例的特征向量。\n",
    "> * 输出：实例的类别，可以是多类别。\n",
    "> * 首先有一个训练集；对于新的实例，根据其k个最近邻的训练实例的类别，通过多数表决等方式进行预测。\n",
    "> * 不具备显式学习过程。\n",
    "> * 本质：运用training data，将特征空间进行划分，并作为其分类的model；送进一个新的实例，会看该实例位于特征空间的哪一个划分中，来标记其类别。\n",
    "> * 三个基本要素：k值的选择，距离度量，分类决策规则。"
   ]
  },
  {
   "cell_type": "code",
   "execution_count": 3,
   "metadata": {},
   "outputs": [],
   "source": [
    "import numpy as np\n",
    "import pandas as pd\n",
    "import matplotlib.pyplot as plt"
   ]
  },
  {
   "cell_type": "code",
   "execution_count": 4,
   "metadata": {},
   "outputs": [],
   "source": [
    "# 边际可视化\n",
    "from matplotlib.colors import ListedColormap\n",
    "\n",
    "# classification <= 5\n",
    "def plot_decision_regions(X, y, classifier=None, scaler = None, resolution=0.02, need_samples=1):\n",
    "    # setup marker generator and color map\n",
    "    markers = ('s','x','o','^','v')\n",
    "    colors = ('red','blue','lightgreen','gray','cyan')\n",
    "    cmap = ListedColormap(colors[:len(np.unique(y))])\n",
    "    \n",
    "    # In this way, we can just draw a scatter pic\n",
    "    if classifier:\n",
    "        # plot the decision surface\n",
    "        x1_min, x1_max = X[:,0].min()-1, X[:,0].max()+1\n",
    "        x2_min, x2_max = X[:,1].min()-1, X[:,1].max()+1\n",
    "        xx1,xx2 = np.meshgrid(np.arange(x1_min,x1_max,resolution),\n",
    "                              np.arange(x2_min,x2_max,resolution))\n",
    "        temp = np.array([xx1.ravel(),xx2.ravel()]).T\n",
    "        if scaler:\n",
    "            temp = scaler.transform(temp)\n",
    "        Z = classifier.predict(temp)\n",
    "        Z = Z.reshape(xx1.shape)\n",
    "        plt.contourf(xx1, xx2, Z, alpha=0.3, cmap=cmap)\n",
    "        plt.xlim(xx1.min(), xx1.max())\n",
    "        plt.ylim(xx2.min(), xx2.max())\n",
    "    \n",
    "    if need_samples:\n",
    "        # plot class samples\n",
    "        for idx,cl in enumerate(np.unique(y)):\n",
    "            plt.scatter(x=X[y==cl,0],\n",
    "                        y=X[y==cl,1],\n",
    "                        alpha=0.8,\n",
    "                        c=colors[idx],\n",
    "                        marker=markers[idx],\n",
    "                        label=cl,\n",
    "                        edgecolor='black')"
   ]
  },
  {
   "cell_type": "markdown",
   "metadata": {},
   "source": [
    "## 3.1 k近邻算法"
   ]
  },
  {
   "cell_type": "markdown",
   "metadata": {},
   "source": [
    "__定义__：给定一个训练数据集，对于新的输入实例，在训练数据集中找到与该实例最近邻(涉及“距离度量”)的k个实例(涉及“k值选择”)，这k个实例的多数属于某个类就把该输入实例分为这个类(涉及“分类决策规则”)。"
   ]
  },
  {
   "cell_type": "markdown",
   "metadata": {},
   "source": [
    "__算法: k-nn__\n",
    "\n",
    "* 输入：\n",
    "    1. 训练数据集，其中$\\mathbf{x_i}\\in \\mathbf{R}^n$，$y_i \\in \\{c_1,c_2,\\cdots,c_K\\}$，$i=1,2,\\cdots,N$\n",
    "$$T=\\{(\\mathbf{x_1},y_1),(\\mathbf{x_2},y_2),\\cdots,(\\mathbf{x_N},y_N)\\}$$\n",
    "    2. 实例$\\mathbf{x}$\n",
    "* 输出：实例$\\mathbf{x}$所属的类别$y$\n",
    "* 过程：\n",
    "    1. 根据给定的距离度量，在训练集$T$中找到与$\\mathbf{x}$最邻近的$k$个点，涵盖这$k$个点的邻域记做$N_k(\\mathbf{x})$；\n",
    "    2. 在$N_k(\\mathbf{x})$中根据分类决策规则(如多数决)，决定$\\mathbf{x}$的类别$y$：\n",
    "$$y = \\underset{c_j}{argmax}\\sum_{x_i \\in N_k(\\mathbf{x})} I(y_i=c_j),\\quad i=1,2,\\cdots,N;\\quad j=1,2,\\cdots,K$$"
   ]
  },
  {
   "cell_type": "markdown",
   "metadata": {},
   "source": [
    "## 3.2 k近邻模型"
   ]
  },
  {
   "cell_type": "markdown",
   "metadata": {},
   "source": [
    "### 一. 模型"
   ]
  },
  {
   "cell_type": "markdown",
   "metadata": {},
   "source": [
    "对于k-nn，当“三要素”以及training data给定后，特征空间中的每一个点，其所属的类(预测)被唯一确定，也就是特征空间被唯一地划分了。"
   ]
  },
  {
   "cell_type": "markdown",
   "metadata": {},
   "source": [
    "__最近邻算法__：$k=1$时，新输入的实例的类别由与它最近的训练集中的实例确定。"
   ]
  },
  {
   "cell_type": "code",
   "execution_count": 28,
   "metadata": {},
   "outputs": [
    {
     "data": {
      "image/png": "[encoded data removed]",
      "text/plain": [
       "<Figure size 432x288 with 1 Axes>"
      ]
     },
     "metadata": {},
     "output_type": "display_data"
    }
   ],
   "source": [
    "# 最邻法\n",
    "from sklearn.neighbors import KNeighborsClassifier\n",
    "X = np.array([[1,4],[3,2],[5,1],[2,8],[4,7],[4,4],[5,3],[1,2]])\n",
    "y = np.array([0,0,1,1,0,1,0,1])\n",
    "knn = KNeighborsClassifier(n_neighbors=1, p=2)\n",
    "knn.fit(X,y)\n",
    "plot_decision_regions(X,y,classifier=knn)"
   ]
  },
  {
   "cell_type": "markdown",
   "metadata": {},
   "source": [
    "### 二. 距离度量"
   ]
  },
  {
   "cell_type": "markdown",
   "metadata": {},
   "source": [
    "距离，实质上是__相似性__的一种度量。不同的距离度量方法，可能得到不同的k近邻区域。\n",
    "\n",
    "Minkowski距离：\n",
    "\n",
    "$$L_p(\\mathbf{x_i},\\mathbf{x_j}) = \\Big(\\sum^n_{l=1}|x_i^{(l)}-x_j^{(l)}|^p\\Big)^{\\frac{1}{p}}$$\n",
    "\n",
    "* $p=2$时，是__欧氏距离(欧几里得距离)__;\n",
    "* $p=1$时，是__曼哈顿距离__;\n",
    "* $p=\\infty$时，是__切比雪夫距离__。\n",
    "\n",
    "在scikit-learn中，knn也有参数$p$，即距离度量的选择。"
   ]
  },
  {
   "cell_type": "markdown",
   "metadata": {},
   "source": [
    "### 三. k值选择"
   ]
  },
  {
   "cell_type": "markdown",
   "metadata": {},
   "source": [
    "* $k$值变大——模型变复杂——容易过拟合；\n",
    "* $k$值变小——模型变简单——容易欠拟合；\n",
    "* 使用交叉验证选择合适的$k$值。"
   ]
  },
  {
   "cell_type": "markdown",
   "metadata": {},
   "source": [
    "### 四. 分类决策规则"
   ]
  },
  {
   "cell_type": "markdown",
   "metadata": {},
   "source": [
    "往往是__多数表决(majority voting)__：由输入实例的$k$个近邻的训练实例中的多数类决定输入实例的类别。"
   ]
  },
  {
   "cell_type": "markdown",
   "metadata": {},
   "source": [
    "## 3.3 k近邻法的实现: kd树"
   ]
  },
  {
   "cell_type": "markdown",
   "metadata": {},
   "source": [
    "实现k近邻法，必须要做到__快速__找到k近邻区域，即__快速__进行k近邻搜索——当特征的维度很大，训练数据容量很大的时候，一个一个算距离需要耗费大量时间(称为“线性扫描”)，是不可行的。因此，必要设计其他高效的算法，能够快速找到对于某个输入实例的$k$个近邻点。"
   ]
  },
  {
   "cell_type": "markdown",
   "metadata": {},
   "source": [
    "核心思路：使用特殊的数据结构存储训练数据，以致于能够更快地找到对于某个任意实例的$k$个近邻点。下面介绍一种数据结构——__kd树__。"
   ]
  },
  {
   "cell_type": "markdown",
   "metadata": {},
   "source": [
    "### 一. 构造kd树"
   ]
  },
  {
   "cell_type": "markdown",
   "metadata": {},
   "source": [
    "kd树是一种对$k$维空间中的实例进行存储以便对其进行快速检索的树形数据结构：\n",
    "\n",
    "* 是二叉树；\n",
    "* 表示对$k$维空间的一个划分；\n",
    "* 构造的过程，相当于不断地用垂直于坐标轴的超平面将$k$维空间切分，切成一系列的$k$维超矩形区域。"
   ]
  },
  {
   "cell_type": "markdown",
   "metadata": {},
   "source": [
    "__平衡kd树__：按照如下方式切分得到的kd树是平衡kd树\n",
    "\n",
    "* 依次选择坐标轴对空间进行切分；\n",
    "* 选择训练实例点在选定坐标轴上的中位数为切分点。"
   ]
  },
  {
   "cell_type": "markdown",
   "metadata": {},
   "source": [
    "__结点(Node)__：kd树的一个结点对应一个超矩形区域，并存储着该超矩形区域的切分点。"
   ]
  },
  {
   "cell_type": "markdown",
   "metadata": {},
   "source": [
    "__算法：构造平衡kd树__——递归\n",
    "\n",
    "if 区域中无任何实例(termination criteria) met:\n",
    "\n",
    "    return None\n",
    "\n",
    "else:\n",
    "\n",
    "* __生成新结点__\n",
    "* __确定切分维度__：对深度为$j$的结点，选择$x^{(l)}$为切分的维度(坐标轴)，其中$l=j(mod\\ k)+1$；\n",
    "* __确定切分实例__：以该结点的区域中所有实例的$x^{(l)}$坐标的中位数为切分点，将该结点对应的超矩形区域切分为两个子区域——将该切分实例保存至该结点中；\n",
    "* __切分__：切分通过切分点并与坐标轴$x^{(l)}$垂直的超平面实现；\n",
    "* __生成左右子区域(结点)__：由该结点的切分生成深度为$j+1$的左右子区域(结点)——左子区域(结点)对应坐标$x^{(l)}$小于等于切分点的子区域，右子区域(结点)对应坐标$x^{(l)}$大于切分点的子区域；\n",
    "* __递归__：重复。"
   ]
  },
  {
   "cell_type": "markdown",
   "metadata": {},
   "source": [
    "举例：给定一个二维空间的数据集，构造一个平衡kd树\n",
    "\n",
    "$$T = \\{(2,3)^T, (5,4)^T, (9,6)^T, (4,7)^T, (8,1)^T, (7,2)^T\\}$$"
   ]
  },
  {
   "cell_type": "markdown",
   "metadata": {},
   "source": [
    "解答：\n",
    "* 首先，该区域中有实例，则生成一个新结点，切分维度为$0mod2+1=1$，将该区域中的实例按照第1维度排序得$T = \\{(2,3)^T, (4,7)^T, (5,4)^T, (7,2)^T, (8,1)^T, (9,6)^T\\}$，该维度的中位数所对应的实例为$(7,2)^T$，因此将$(7,2)^T$保存至该结点中，并以$x^{(1)}=7$将该区域划分为左右两个子区域；"
   ]
  },
  {
   "cell_type": "code",
   "execution_count": 58,
   "metadata": {},
   "outputs": [
    {
     "data": {
      "image/png": "[encoded data removed]",
      "text/plain": [
       "<Figure size 432x288 with 1 Axes>"
      ]
     },
     "metadata": {},
     "output_type": "display_data"
    }
   ],
   "source": [
    "plt.xlim([0,10])\n",
    "plt.ylim([0,10])\n",
    "plt.grid()\n",
    "plt.scatter([2,5,9,4,8,7],[3,4,6,7,1,2],color='b')\n",
    "plt.plot([7,7],[0,10],'--',color='r');"
   ]
  },
  {
   "cell_type": "markdown",
   "metadata": {},
   "source": [
    "* (第2层左子区域)：有实例，则生成一个新结点，切分维度为$1mod2+1=2$，将该区域中的实例按照第2维度排序得$T = \\{(2,3)^T, (5,4)^T, (4,7)^T\\}$，该维度的中位数所对应的实例为$(5,4)^T$，因此将$(5,4)^T$保存至该结点中，并以$x^{(2)}=4$将该区域划分为左右两个子区域；"
   ]
  },
  {
   "cell_type": "code",
   "execution_count": 59,
   "metadata": {},
   "outputs": [
    {
     "data": {
      "image/png": "[encoded data removed]",
      "text/plain": [
       "<Figure size 432x288 with 1 Axes>"
      ]
     },
     "metadata": {},
     "output_type": "display_data"
    }
   ],
   "source": [
    "plt.xlim([0,10])\n",
    "plt.ylim([0,10])\n",
    "plt.grid()\n",
    "plt.scatter([2,5,9,4,8,7],[3,4,6,7,1,2],color='b')\n",
    "plt.plot([7,7],[0,10],color='r');\n",
    "plt.plot([0,7],[4,4],'--',color='r');"
   ]
  },
  {
   "cell_type": "markdown",
   "metadata": {},
   "source": [
    "* (第2层右子区域)：有实例，则生成一个新结点，切分维度为$1mod2+1=2$，将该区域中的实例按照第2维度排序得$T = \\{(8,1)^T, (9,6)^T\\}$，该维度的中位数所对应的实例为$(9,6)^T$，因此将$(9,6)^T$保存至该结点中，并以$x^{(2)}=6$将该区域划分为左右两个子区域；"
   ]
  },
  {
   "cell_type": "code",
   "execution_count": 60,
   "metadata": {},
   "outputs": [
    {
     "data": {
      "image/png": "[encoded data removed]",
      "text/plain": [
       "<Figure size 432x288 with 1 Axes>"
      ]
     },
     "metadata": {},
     "output_type": "display_data"
    }
   ],
   "source": [
    "plt.xlim([0,10])\n",
    "plt.ylim([0,10])\n",
    "plt.grid()\n",
    "plt.scatter([2,5,9,4,8,7],[3,4,6,7,1,2],color='b')\n",
    "plt.plot([7,7],[0,10],color='r');\n",
    "plt.plot([0,7],[4,4],color='r');\n",
    "plt.plot([7,10],[6,6],'--',color='r');"
   ]
  },
  {
   "cell_type": "markdown",
   "metadata": {},
   "source": [
    "* (第3层左左子区域)：有实例，则生成一个新结点，切分维度为$2mod2+1=1$，将该区域中的实例按照第1维度排序得$T = \\{(2,3)^T\\}$，该维度的中位数所对应的实例为$(2,3)^T$，因此将$(2,3)^T$保存至该结点中，并以$x^{(1)}=2$将该区域划分为左右两个子区域；"
   ]
  },
  {
   "cell_type": "code",
   "execution_count": 61,
   "metadata": {},
   "outputs": [
    {
     "data": {
      "image/png": "[encoded data removed]",
      "text/plain": [
       "<Figure size 432x288 with 1 Axes>"
      ]
     },
     "metadata": {},
     "output_type": "display_data"
    }
   ],
   "source": [
    "plt.xlim([0,10])\n",
    "plt.ylim([0,10])\n",
    "plt.grid()\n",
    "plt.scatter([2,5,9,4,8,7],[3,4,6,7,1,2],color='b')\n",
    "plt.plot([7,7],[0,10],color='r');\n",
    "plt.plot([0,7],[4,4],color='r');\n",
    "plt.plot([7,10],[6,6],color='r');\n",
    "plt.plot([2,2],[0,4],'--',color='r');"
   ]
  },
  {
   "cell_type": "markdown",
   "metadata": {},
   "source": [
    "* (第3层左右子区域)：有实例，则生成一个新结点，切分维度为$2mod2+1=1$，将该区域中的实例按照第1维度排序得$T = \\{(4,7)^T\\}$，该维度的中位数所对应的实例为$(4,7)^T$，因此将$(4,7)^T$保存至该结点中，并以$x^{(1)}=4$将该区域划分为左右两个子区域；"
   ]
  },
  {
   "cell_type": "code",
   "execution_count": 62,
   "metadata": {},
   "outputs": [
    {
     "data": {
      "image/png": "[encoded data removed]",
      "text/plain": [
       "<Figure size 432x288 with 1 Axes>"
      ]
     },
     "metadata": {},
     "output_type": "display_data"
    }
   ],
   "source": [
    "plt.xlim([0,10])\n",
    "plt.ylim([0,10])\n",
    "plt.grid()\n",
    "plt.scatter([2,5,9,4,8,7],[3,4,6,7,1,2],color='b')\n",
    "plt.plot([7,7],[0,10],color='r');\n",
    "plt.plot([0,7],[4,4],color='r');\n",
    "plt.plot([7,10],[6,6],color='r');\n",
    "plt.plot([2,2],[0,4],color='r');\n",
    "plt.plot([4,4],[4,10],'--',color='r');"
   ]
  },
  {
   "cell_type": "markdown",
   "metadata": {},
   "source": [
    "* (第3层右左子区域)：有实例，则生成一个新结点，切分维度为$2mod2+1=1$，将该区域中的实例按照第1维度排序得$T = \\{(8,1)^T\\}$，该维度的中位数所对应的实例为$(8,1)^T$，因此将$(8,1)^T$保存至该结点中，并以$x^{(1)}=8$将该区域划分为左右两个子区域；"
   ]
  },
  {
   "cell_type": "code",
   "execution_count": 65,
   "metadata": {},
   "outputs": [
    {
     "data": {
      "image/png": "[encoded data removed]",
      "text/plain": [
       "<Figure size 432x288 with 1 Axes>"
      ]
     },
     "metadata": {},
     "output_type": "display_data"
    }
   ],
   "source": [
    "plt.xlim([0,10])\n",
    "plt.ylim([0,10])\n",
    "plt.grid()\n",
    "plt.scatter([2,5,9,4,8,7],[3,4,6,7,1,2],color='b')\n",
    "plt.plot([7,7],[0,10],color='r');\n",
    "plt.plot([0,7],[4,4],color='r');\n",
    "plt.plot([7,10],[6,6],color='r');\n",
    "plt.plot([2,2],[0,4],color='r');\n",
    "plt.plot([4,4],[4,10],color='r');\n",
    "plt.plot([8,8],[0,6],'--',color='r');"
   ]
  },
  {
   "cell_type": "markdown",
   "metadata": {},
   "source": [
    "* (第3层右右子区域)：没有实例。\n",
    "* (第4层所有区域)：没有实例，结束，得到的kd树如下："
   ]
  },
  {
   "cell_type": "code",
   "execution_count": 67,
   "metadata": {},
   "outputs": [
    {
     "data": {
      "image/png": "[encoded data removed]",
      "text/plain": [
       "<Figure size 432x288 with 1 Axes>"
      ]
     },
     "metadata": {},
     "output_type": "display_data"
    }
   ],
   "source": [
    "plt.xlim([0,10])\n",
    "plt.ylim([0,10])\n",
    "plt.grid()\n",
    "plt.scatter([2,5,9,4,8,7],[3,4,6,7,1,2],color='b')\n",
    "plt.plot([7,7],[0,10],color='r');\n",
    "plt.plot([0,7],[4,4],color='r');\n",
    "plt.plot([7,10],[6,6],color='r');\n",
    "plt.plot([2,2],[0,4],color='r');\n",
    "plt.plot([4,4],[4,10],color='r');\n",
    "plt.plot([8,8],[0,6],color='r');"
   ]
  },
  {
   "cell_type": "markdown",
   "metadata": {},
   "source": [
    "### 二. 搜索kd树"
   ]
  },
  {
   "cell_type": "markdown",
   "metadata": {},
   "source": [
    "#### 1. 最邻搜索"
   ]
  },
  {
   "cell_type": "markdown",
   "metadata": {},
   "source": [
    "算法：\n",
    "\n",
    "1. __在kd tree中找出包含目标点$\\mathbf{x}$的leaf node__——从current root node出发，向下访问kd tree，若目标点$\\mathbf{x}$当前维度的坐标小于切分点的坐标，则移动到左子结点，否则移动到右子结点(若只有一个子结点，则移动到该子结点)——直到子结点为叶结点为止；\n",
    "2. __保存该path上的所有node__；\n",
    "3. __以“后进先出”的方式回退检索上述node__:\n",
    "    * if “当前最近点”为空: \n",
    "        * 则该node为“当前最近点”；\n",
    "    * else:\n",
    "        * if 该结点比“当前最近点”更近:\n",
    "            * 替换“当前最近点”；\n",
    "    * if 该结点有2个子结点:\n",
    "        * if 目标点$\\mathbf{x}$到该结点切分超平面的距离小于“当前最近点”:\n",
    "            * 以另一子结点为current root node，递归执行该最邻搜索。"
   ]
  },
  {
   "cell_type": "code",
   "execution_count": 74,
   "metadata": {},
   "outputs": [
    {
     "name": "stdout",
     "output_type": "stream",
     "text": [
      "最近点为:(-5.2817175226345565, -3.224172040135075), 距离为:5.572262101870562\n",
      "构建kd树用时: 0.000067秒\n",
      "检索用时: 0.000974秒\n"
     ]
    },
    {
     "data": {
      "image/png": "[encoded data removed]",
      "text/plain": [
       "<Figure size 432x288 with 1 Axes>"
      ]
     },
     "metadata": {},
     "output_type": "display_data"
    }
   ],
   "source": [
    "from matplotlib.patches import Circle\n",
    "import matplotlib.pyplot as plt\n",
    "import numpy as np\n",
    "import copy\n",
    "import time\n",
    "\n",
    "class Node:\n",
    "    \"\"\"二叉树结点\n",
    "    Parameters\n",
    "    --------------\n",
    "    left: Node\n",
    "        左子结点\n",
    "    right: Node\n",
    "        右子结点\n",
    "    point: tuple\n",
    "        该结点存储的切分点\n",
    "    dim: int\n",
    "        该结点的切分维度，是索引，因此真正的维度应该是dim+1\n",
    "    \"\"\"\n",
    "    def __init__(self, left, right, point, dim):\n",
    "        self.left  = left\n",
    "        self.right = right\n",
    "        self.point = point\n",
    "        self.dim   = dim\n",
    "\n",
    "    def get_child_num(self):\n",
    "        \"\"\"返回该结点的子结点数目\n",
    "        Return\n",
    "        --------------\n",
    "        : int, 0 or 1 or 2      \n",
    "            子结点数目\n",
    "        \"\"\"\n",
    "        return int(self.right != None) + int(self.left != None)\n",
    "\n",
    "class KdTree:\n",
    "    \"\"\"kd树\n",
    "    Parameters\n",
    "    --------------\n",
    "    training_data: list of tuple\n",
    "        训练样本数据点\n",
    "    \n",
    "    Attributes\n",
    "    --------------\n",
    "    dim_: int\n",
    "        样本维度\n",
    "    kdtree_: Node\n",
    "        kd树(根节点表示)\n",
    "    nearest_: list of Node\n",
    "        存储当前最邻点\n",
    "    min_dist_: float\n",
    "        与当前最邻点的距离\n",
    "    \"\"\"\n",
    "    def __init__(self, training_data):\n",
    "        self.training_data = training_data\n",
    "        self.dim_ = len(training_data[0])\n",
    "        self.kdtree_ = None\n",
    "        self.nearest_  = [-999]                              # 储存\"当前最近\"点(Node)\n",
    "        self.min_dist_ = float('inf')                        # 储存\"当前最近\"点与目标的距离\n",
    "\n",
    "    def create_tree(self):\n",
    "        \"\"\"构造kd树\"\"\"\n",
    "        kdtree = self.create_tree_real(self.training_data)\n",
    "        self.kdtree_ = kdtree\n",
    "\n",
    "    def create_tree_real(self, point_list, depth=0):\n",
    "        \"\"\"实际构造kd树函数\n",
    "        Parameters\n",
    "        --------------\n",
    "        point_list: list by tuples\n",
    "            训练数据点(或其一部分)\n",
    "        depth: int\n",
    "            结点深度，默认是0，即root位置\n",
    "\n",
    "        Returns\n",
    "        --------------\n",
    "        Node: Node\n",
    "            kd树(以根节点表示)\n",
    "        \"\"\"\n",
    "        if not point_list:  # 递归的base criteria\n",
    "            return None\n",
    "        dim_index = depth%self.dim_\n",
    "        point_list = sorted(point_list, key=lambda x:x[dim_index])\n",
    "        median_index = len(point_list)//2\n",
    "        return Node(\n",
    "                point  = point_list[median_index],\n",
    "                left  = self.create_tree_real(point_list[:median_index], depth+1),\n",
    "                right = self.create_tree_real(point_list[median_index+1:], depth+1),\n",
    "                dim = dim_index\n",
    "        )\n",
    "\n",
    "    def compute_distance(self, p1, p2):\n",
    "        \"\"\"计算两点间的欧氏距离\n",
    "        Parameters\n",
    "        --------------\n",
    "        p1: tuple\n",
    "            点1\n",
    "        p2: tuple\n",
    "            点2\n",
    "\n",
    "        Returns\n",
    "        --------------\n",
    "        distance: float\n",
    "            两点的欧氏距离\n",
    "        \"\"\"\n",
    "        p1 = np.array(p1)\n",
    "        p2 = np.array(p2)\n",
    "        distance = np.sqrt(np.sum((p1-p2)*(p1-p2)))\n",
    "        return distance\n",
    "\n",
    "    def find_nearest_one(self, query_point):\n",
    "        \"\"\"寻找最近点\"\"\"\n",
    "        if not self.kdtree_:\n",
    "            print(\"Attention: 请先构建kd树!\")\n",
    "            return None\n",
    "        self.find_nearest_one_real(self.kdtree_, query_point)\n",
    "        print(\"最近点为:%s, 距离为:%s\" % (str(self.nearest_[0].point), str(self.min_dist_)))\n",
    "        return self.nearest_[0].point, self.min_dist_\n",
    "\n",
    "    def find_nearest_one_real(self, root, query_point):\n",
    "        \"\"\"实际检索函数\n",
    "        Parameters\n",
    "        --------------\n",
    "        query_point: tuple\n",
    "            目标数据点\n",
    "\n",
    "        Returns\n",
    "        --------------\n",
    "        nearest_[0]: Node\n",
    "            最近点\n",
    "        min_dist_: float\n",
    "            最近点对应的最近距离\n",
    "        \"\"\"\n",
    "        node_list = []                                                              # 储存待检查的结点\n",
    "        cursor_node = root                                                          # 不需要deepcopy\n",
    "        while cursor_node:                                                          # 二叉检索，获得子结点，并将路径结点保存\n",
    "            node_list.append(cursor_node)\n",
    "            if cursor_node.get_child_num() == 1:                                    # 如果下面只剩一个结点，无论是左是右，都走下去\n",
    "                cursor_node = cursor_node.left if cursor_node.left else cursor_node.right\n",
    "            else:\n",
    "                dim = cursor_node.dim\n",
    "                if query_point[dim] < cursor_node.point[dim]:\n",
    "                    cursor_node = cursor_node.left\n",
    "                else:\n",
    "                    cursor_node = cursor_node.right\n",
    "        while node_list:                                                            # 回退检索\n",
    "            back_point = node_list.pop()\n",
    "            btq_dist = self.compute_distance(back_point.point, query_point)\n",
    "            if btq_dist < self.min_dist_:\n",
    "                self.nearest_[0] = back_point\n",
    "                self.min_dist_ = btq_dist\n",
    "            dim = back_point.dim\n",
    "            if back_point.get_child_num() == 2:                                     # 确定有左右两个子结点，有一个或没有都不用进行以下步骤\n",
    "                if abs(query_point[dim] - back_point.point[dim]) < self.min_dist_:\n",
    "                    if query_point[dim] < back_point.point[dim]:                    # 以当前最近点与目标点连线为半径的圆与同父兄弟的矩形空间相交，因此需要检查同父兄弟的矩形空间\n",
    "                        cursor_node = back_point.right\n",
    "                        self.find_nearest_one_real(cursor_node,query_point)\n",
    "                    else:\n",
    "                        cursor_node = back_point.left\n",
    "                        self.find_nearest_one_real(cursor_node,query_point)\n",
    "\n",
    "def draw_pic(X,query_point,min_dist_):\n",
    "    fig = plt.figure()\n",
    "    ax = fig.add_subplot(111)\n",
    "    plt.scatter([i[0] for i in X], [i[1] for i in X])\n",
    "    plt.scatter(nearest_point[0],nearest_point[1],s=100,c='r')\n",
    "    plt.scatter(query_point[0],query_point[1],c='g')\n",
    "    plt.grid()\n",
    "    cir = Circle(xy=query_point, radius=min_dist_, alpha=0.4)\n",
    "    ax.add_patch(cir)\n",
    "    plt.axis('scaled')\n",
    "    plt.axis('equal')\n",
    "    plt.show()\n",
    "\n",
    "if __name__ == '__main__':\n",
    "    # 数据生成\n",
    "    n = 10\n",
    "    np.random.seed(1)\n",
    "    temp = np.random.randn(2*n)*10\n",
    "    X = temp[:n]\n",
    "    Y = temp[n:]\n",
    "    input_ = list(zip(X,Y))\n",
    "    query_point = (0,-5)\n",
    "\n",
    "    # 构建kd树并搜寻\n",
    "    time1 = time.time()\n",
    "    kt = KdTree(input_)\n",
    "    kt.create_tree()\n",
    "    time2 = time.time()\n",
    "    nearest_point,min_dist_ = kt.find_nearest_one(query_point)\n",
    "    time3 = time.time()\n",
    "    print(\"构建kd树用时: %f秒\" % (time2-time1))\n",
    "    print(\"检索用时: %f秒\" % (time3-time2))\n",
    "    draw_pic(input_,query_point,min_dist_)"
   ]
  },
  {
   "cell_type": "markdown",
   "metadata": {},
   "source": [
    "#### 2. k邻搜索"
   ]
  },
  {
   "cell_type": "markdown",
   "metadata": {},
   "source": [
    "算法：\n",
    "\n",
    "1. __在kd tree中找出包含目标点$\\mathbf{x}$的leaf node__——从current root node出发，向下访问kd tree，若目标点$\\mathbf{x}$当前维度的坐标小于切分点的坐标，则移动到左子结点，否则移动到右子结点(若只有一个子结点，则移动到该子结点)——直到子结点为叶结点为止；\n",
    "2. __保存该path上的所有node__；\n",
    "3. __以“后进先出”的方式回退检索上述node__:\n",
    "    * if “当前k近邻点”数目小于$k$: \n",
    "        * 则将该node添加至“当前k近邻点”；\n",
    "    * else:\n",
    "        * if 该结点比“当前k近邻点”中最远的点更近:\n",
    "            * 替换“当前k近邻点”中最远的点；\n",
    "    * if 该结点有2个子结点:\n",
    "        * if 目标点$\\mathbf{x}$到该结点切分超平面的距离小于“当前k近邻点”中最远的点:\n",
    "            * 以另一子结点为current root node，递归执行该k邻搜索。"
   ]
  },
  {
   "cell_type": "code",
   "execution_count": 76,
   "metadata": {},
   "outputs": [
    {
     "name": "stdout",
     "output_type": "stream",
     "text": [
      "k=5最近点为:[(3.1903909605709857, 0.4221374671559283), (-7.612069008951028, -8.778584179213718), (-5.2817175226345565, -3.224172040135075), (-10.729686221561705, -3.8405435466841564), (-2.493703754774101, 5.828152137158222)], 距离为:[6.291118278496214, 8.498311184961215, 5.572262101870562, 10.792150187998073, 11.111590215717039]\n",
      "构建kd树用时: 0.000085秒\n",
      "检索用时: 0.000923秒\n"
     ]
    },
    {
     "data": {
      "image/png": "[encoded data removed]",
      "text/plain": [
       "<Figure size 432x288 with 1 Axes>"
      ]
     },
     "metadata": {},
     "output_type": "display_data"
    }
   ],
   "source": [
    "from matplotlib.patches import Circle\n",
    "import matplotlib.pyplot as plt\n",
    "import numpy as np\n",
    "import copy\n",
    "import time\n",
    "\n",
    "class Node:\n",
    "    \"\"\"二叉树结点\n",
    "    Parameters\n",
    "    --------------\n",
    "    left: Node\n",
    "        左子结点\n",
    "    right: Node\n",
    "        右子结点\n",
    "    point: tuple\n",
    "        该结点存储的切分点\n",
    "    dim: int\n",
    "        该结点的切分维度，是索引，因此真正的维度应该是dim+1\n",
    "    \"\"\"\n",
    "    def __init__(self, left, right, point, dim):\n",
    "        self.left  = left\n",
    "        self.right = right\n",
    "        self.point = point\n",
    "        self.dim   = dim\n",
    "\n",
    "    def get_child_num(self):\n",
    "        \"\"\"返回该结点的子结点数目\n",
    "        Return\n",
    "        --------------\n",
    "        : int, 0 or 1 or 2      \n",
    "            子结点数目\n",
    "        \"\"\"\n",
    "        return int(self.right != None) + int(self.left != None)\n",
    "\n",
    "class KdTree:\n",
    "    \"\"\"kd树\n",
    "    Parameters\n",
    "    --------------\n",
    "    training_data: list of tuple\n",
    "        训练样本数据点\n",
    "    \n",
    "    Attributes\n",
    "    --------------\n",
    "    dim_: int\n",
    "        样本维度\n",
    "    kdtree_: Node\n",
    "        kd树(根节点表示)\n",
    "    nearest_: list of Node\n",
    "        存储当前最邻点\n",
    "    min_dist_: float\n",
    "        与当前最邻点的距离\n",
    "    \"\"\"\n",
    "    def __init__(self, training_data):\n",
    "        self.training_data = training_data\n",
    "        self.dim_ = len(training_data[0])\n",
    "        self.kdtree_ = None\n",
    "        self.nearest_  = []\n",
    "        self.min_dist_ = []\n",
    "\n",
    "    def create_tree(self):\n",
    "        \"\"\"构造kd树\"\"\"\n",
    "        kdtree = self.create_tree_real(self.training_data)\n",
    "        self.kdtree_ = kdtree\n",
    "\n",
    "    def create_tree_real(self, point_list, depth=0):\n",
    "        \"\"\"实际构造kd树函数\n",
    "        Parameters\n",
    "        --------------\n",
    "        point_list: list by tuples\n",
    "            训练数据点(或其一部分)\n",
    "        depth: int\n",
    "            结点深度，默认是0，即root位置\n",
    "\n",
    "        Returns\n",
    "        --------------\n",
    "        Node: Node\n",
    "            kd树(以根节点表示)\n",
    "        \"\"\"\n",
    "        if not point_list:  # 递归的base criteria\n",
    "            return None\n",
    "        dim_index = depth%self.dim_\n",
    "        point_list = sorted(point_list, key=lambda x:x[dim_index])\n",
    "        median_index = len(point_list)//2\n",
    "        return Node(\n",
    "                point  = point_list[median_index],\n",
    "                left  = self.create_tree_real(point_list[:median_index], depth+1),\n",
    "                right = self.create_tree_real(point_list[median_index+1:], depth+1),\n",
    "                dim = dim_index\n",
    "        )\n",
    "\n",
    "    def compute_distance(self, p1, p2):\n",
    "        \"\"\"计算两点间的欧氏距离\n",
    "        Parameters\n",
    "        --------------\n",
    "        p1: tuple\n",
    "            点1\n",
    "        p2: tuple\n",
    "            点2\n",
    "\n",
    "        Returns\n",
    "        --------------\n",
    "        distance: float\n",
    "            两点的欧氏距离\n",
    "        \"\"\"\n",
    "        p1 = np.array(p1)\n",
    "        p2 = np.array(p2)\n",
    "        distance = np.sqrt(np.sum((p1-p2)*(p1-p2)))\n",
    "        return distance\n",
    "\n",
    "    def find_nearest_k(self, query_point, k=1):\n",
    "        \"\"\"寻找最近的k个点\"\"\"\n",
    "        if not self.kdtree_:\n",
    "            print(\"Attention: 请先构建kd树!\")\n",
    "            return None\n",
    "        self.find_nearest_k_real(self.kdtree_, query_point, k)\n",
    "        nearest_points = [i.point for i in self.nearest_]\n",
    "        min_distances  = self.min_dist_\n",
    "        print(\"k=%s最近点为:%s, 距离为:%s\" % (str(k), str(nearest_points), str(min_distances)))\n",
    "        return nearest_points,min_distances\n",
    "\n",
    "    def find_nearest_k_real(self, root, query_point, k=1):\n",
    "        \"\"\"实际检索函数\n",
    "        Parameters\n",
    "        --------------\n",
    "        root: Node\n",
    "            搜索的起始位置\n",
    "        query_point: tuple\n",
    "            目标数据点\n",
    "        k: int\n",
    "            k邻\n",
    "        \"\"\"\n",
    "        node_list = []                                                              # 储存待检查的结点\n",
    "        cursor_node = root                                                          # 不需要deepcopy\n",
    "        while cursor_node:                                                          # 二叉检索，获得子结点，并将路径结点保存\n",
    "            node_list.append(cursor_node)\n",
    "            if cursor_node.get_child_num() == 1:                                    # 如果下面只剩一个结点，无论是左是右，都走下去\n",
    "                cursor_node = cursor_node.left if cursor_node.left else cursor_node.right\n",
    "            else:\n",
    "                dim = cursor_node.dim\n",
    "                if query_point[dim] < cursor_node.point[dim]:\n",
    "                    cursor_node = cursor_node.left\n",
    "                else:\n",
    "                    cursor_node = cursor_node.right\n",
    "        while node_list:                                                            # 回退检索\n",
    "            back_point = node_list.pop()\n",
    "            btq_dist = self.compute_distance(back_point.point, query_point)\n",
    "            if len(self.nearest_) < k:                                              # 如果存储当前最近点的列表不满k个，则直接加入\n",
    "                self.nearest_.append(back_point)\n",
    "                self.min_dist_.append(btq_dist)\n",
    "            elif btq_dist < max(self.min_dist_):\n",
    "                replace_index = self.min_dist_.index(max(self.min_dist_))           # 如果存储当前最近点的列表满k个，则与其中距离最大的点进行比较，看是否可以替换\n",
    "                self.nearest_[replace_index] = back_point\n",
    "                self.min_dist_[replace_index] = btq_dist\n",
    "            dim = back_point.dim\n",
    "            if back_point.get_child_num() == 2:                                     # 确定有左右两个子结点，有一个或没有都不用进行以下步骤\n",
    "                if abs(query_point[dim] - back_point.point[dim]) < max(self.min_dist_):\n",
    "                    if query_point[dim] < back_point.point[dim]:                    # 以当前最近点集合中最远点与目标点连线为半径的圆与同父兄弟的矩形空间相交，因此需要检查同父兄弟的矩形空间\n",
    "                        cursor_node = back_point.right\n",
    "                        self.find_nearest_k_real(cursor_node,query_point,k)\n",
    "                    else:\n",
    "                        cursor_node = back_point.left\n",
    "                        self.find_nearest_k_real(cursor_node,query_point,k)\n",
    "\n",
    "def draw_pic(X,query_point,nearest_points,min_distances):\n",
    "    fig = plt.figure()\n",
    "    ax = fig.add_subplot(111)\n",
    "    for j in min_distances:\n",
    "        cir = Circle(xy=query_point, radius=j, alpha=0.2)\n",
    "        ax.add_patch(cir)\n",
    "        plt.axis('scaled')\n",
    "        plt.axis('equal')\n",
    "    plt.scatter([i[0] for i in X], [i[1] for i in X])\n",
    "    plt.scatter([i[0] for i in nearest_points],[i[1] for i in nearest_points],s=100,c='r')\n",
    "    plt.scatter(query_point[0],query_point[1],c='g')\n",
    "    plt.grid()\n",
    "    plt.show()\n",
    "\n",
    "if __name__ == '__main__':\n",
    "    # 数据生成\n",
    "    n = 10\n",
    "    np.random.seed(1)\n",
    "    temp = np.random.randn(2*n)*10\n",
    "    X = temp[:n]\n",
    "    Y = temp[n:]\n",
    "    input_ = list(zip(X,Y))\n",
    "    query_point = (0,-5)\n",
    "    # 构建kd树并搜寻\n",
    "    time1 = time.time()\n",
    "    kt = KdTree(input_)\n",
    "    kt.create_tree()\n",
    "    time2 = time.time()\n",
    "    nearest_points,min_distances = kt.find_nearest_k(query_point,k=5)\n",
    "    time3 = time.time()\n",
    "    print(\"构建kd树用时: %f秒\" % (time2-time1))\n",
    "    print(\"检索用时: %f秒\" % (time3-time2))\n",
    "    draw_pic(input_,query_point,nearest_points,min_distances)"
   ]
  }
 ],
 "metadata": {
  "kernelspec": {
   "display_name": "Python 3",
   "language": "python",
   "name": "python3"
  },
  "language_info": {
   "codemirror_mode": {
    "name": "ipython",
    "version": 3
   },
   "file_extension": ".py",
   "mimetype": "text/x-python",
   "name": "python",
   "nbconvert_exporter": "python",
   "pygments_lexer": "ipython3",
   "version": "3.6.5"
  }
 },
 "nbformat": 4,
 "nbformat_minor": 2
}
