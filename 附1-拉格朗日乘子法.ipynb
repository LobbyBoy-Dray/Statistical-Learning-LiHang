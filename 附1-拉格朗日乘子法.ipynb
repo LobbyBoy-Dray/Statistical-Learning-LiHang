{
 "cells": [
  {
   "cell_type": "markdown",
   "metadata": {},
   "source": [
    "# 拉格朗日乘子法 & 对偶问题"
   ]
  },
  {
   "cell_type": "markdown",
   "metadata": {},
   "source": [
    ">【①原始问题】 →(引入拉格朗日乘子)→ 【②极小极大问题】 →(对偶)→ 【③极大极小问题】\n",
    "> \n",
    "> 上面①与②等价，但②与③不一定等价(当且仅当满足一定条件时才等价)。因此，有时把②也叫做“原始问题”。"
   ]
  },
  {
   "cell_type": "markdown",
   "metadata": {},
   "source": [
    "## 一. 原始问题(primal problem)"
   ]
  },
  {
   "cell_type": "markdown",
   "metadata": {},
   "source": [
    "### 1. 原始问题"
   ]
  },
  {
   "cell_type": "markdown",
   "metadata": {},
   "source": [
    "假设$f(x)$, $c_i(x)$, $h_j(x)$是定义在$\\mathbf{R}^n$上的连续可微函数。考虑有约束的最优化问题：\n",
    "\n",
    "\\begin{align*}\n",
    "              & \\underset{x \\in \\mathbf{R}^n}{min}\\ \\ f(x)\\\\\n",
    "    s.t.\\ \\ \\ & c_i(x) \\le 0,\\quad i=1,2,\\cdots,k\\\\\n",
    "              & h_j(x) = 0,\\quad j=1,2,\\cdots,l\n",
    "\\end{align*}\n",
    "\n",
    "上述形式的带约束的最优化问题，被称为原始问题：\n",
    "* $n$个变量；\n",
    "* $k+l$个约束。"
   ]
  },
  {
   "cell_type": "markdown",
   "metadata": {},
   "source": [
    "### 2. 等价一: 极小极大问题"
   ]
  },
  {
   "cell_type": "markdown",
   "metadata": {},
   "source": [
    "引入广义拉格朗日函数(普通拉格朗日函数用来求解“等式约束”的最优化问题，广义拉格朗日函数用来求解“不等式约束”的最优化问题)：\n",
    "\n",
    "$$L(x,\\alpha,\\beta) = f(x)+\\sum_{i=1}^k\\alpha_ic_i(x)+\\sum_{j=1}^l\\beta_jh_j(x)$$\n",
    "\n",
    "其中，$\\alpha_i \\ge 0$——$\\alpha_i$($k$个)和$\\beta_j$($l$个)都是拉格朗日乘子。"
   ]
  },
  {
   "cell_type": "markdown",
   "metadata": {},
   "source": [
    "现在考虑如下的关于$x$的函数：\n",
    "\n",
    "$$\\theta_P(x)=\\underset{\\alpha,\\beta;\\alpha_i \\ge 0}{max}\\ L(x,\\alpha,\\beta)$$\n",
    "\n",
    "易证明，以下问题和原始问题等价：\n",
    "\n",
    "$$\\underset{x}{min}\\ \\theta_P(x)$$\n",
    "\n",
    "即：\n",
    "\n",
    "$$\\underset{x}{min}\\ \\underset{\\alpha,\\beta;\\alpha_i \\ge 0}{max}\\ L(x,\\alpha,\\beta)$$"
   ]
  },
  {
   "cell_type": "markdown",
   "metadata": {},
   "source": [
    "__证明__：\n",
    "\n",
    "$x$可以简单分为两类：一类是满足原来约束条件的，另一类是不满足原来约束条件的。\n",
    "\n",
    "对于满足原来约束条件的$x$，$\\theta_P(x)$的最大值是$f(x)$，因为$L$的后两项在$x$满足约束条件的情况下，最大为0；\n",
    "\n",
    "对于不满足原来约束条件的$x$，$\\theta_P(x)$的最大值是$+\\infty$，因为如果存在某个$c_i(x)>0$或$h_j(x)\\ne0$，我们可以找到一个方向的$\\alpha_i$或$\\beta_j$，使得它们的乘积往$+\\infty$方向趋近。\n",
    "\n",
    "因此：\n",
    "\n",
    "\\begin{equation}\n",
    "\\theta_P(x)=\n",
    "\\begin{cases}\n",
    "f(x)    & \\text{x satisfied the constraints}\\\\\n",
    "+\\infty & \\text{x not satisfied constraints}\n",
    "\\end{cases}\n",
    "\\end{equation}\n",
    "\n",
    "所以，$\\underset{x}{min}\\ \\theta_P(x)$，就是挑出x satisfied the constraints中使$f(x)$最小的x，并得到对应的$f(x)$——等价于原始问题。"
   ]
  },
  {
   "cell_type": "markdown",
   "metadata": {},
   "source": [
    "最后，我们把原始问题的最优值记做$p^*$，即$p^* = \\underset{x}{min}\\ \\theta_P(x)$"
   ]
  },
  {
   "cell_type": "markdown",
   "metadata": {},
   "source": [
    "### 3. 不完全等价: 带KKT约束的最优化问题"
   ]
  },
  {
   "cell_type": "markdown",
   "metadata": {},
   "source": [
    "> 参考周志华《机器学习》附录"
   ]
  },
  {
   "cell_type": "markdown",
   "metadata": {},
   "source": [
    "#### 1）只有一个等式约束的最优化问题"
   ]
  },
  {
   "cell_type": "markdown",
   "metadata": {},
   "source": [
    "假设$f(x)$, $h(x)$是定义在$\\mathbf{R}^n$上的连续可微函数。考虑有约束的最优化问题：\n",
    "\n",
    "\\begin{align*}\n",
    "              & \\underset{x \\in \\mathbf{R}^n}{min}\\ \\ f(x)\\\\\n",
    "    s.t.\\ \\ \\ & h(x) = 0\\\\\n",
    "\\end{align*}"
   ]
  },
  {
   "cell_type": "markdown",
   "metadata": {},
   "source": [
    "该最优化问题有对应的__几何意义__：在$h(x)=0$确定的$n-1$维的约束曲面上寻找点$x^*$，使$f(x^*)$最小。"
   ]
  },
  {
   "cell_type": "markdown",
   "metadata": {},
   "source": [
    "最优解$x^*$若存在，则必然满足两个性质(必要，因为其他驻点也满足以下性质)：\n",
    "\n",
    "* $\\nabla h$正交于该约束曲面——梯度与等高线垂直；\n",
    "* $\\nabla f$正交于该约束曲面——如果不正交的话，则存在沿着约束曲面的切向分量，沿着该切向分量的反方向，$f(x)$的值可以进一步下降，那么$f(x^*)$就不是最小值(反证法)。\n",
    "\n",
    "综上，我们知道，$\\nabla h$与$\\nabla f$均正交于约束曲面，因此它们平行，即存在$\\lambda \\ne 0$：\n",
    "\n",
    "$$\\nabla f(x^*)+\\lambda \\nabla h(x^*)=0$$"
   ]
  },
  {
   "cell_type": "markdown",
   "metadata": {},
   "source": [
    "因此，我们可以构造函数$L(x,\\lambda)=f(x)+\\lambda h(x)$，然后在无约束条件下求解该函数——该问题与原来的含一个等式约束的最优化问题__“基本”__等价，因为：\n",
    "\n",
    "* 对$x$求偏导，令其等于0，得到上面的梯度式；\n",
    "* 对$\\lambda$求偏导，令其等于0，得到约束等式。\n",
    "\n",
    "但是，如果原优化问题不是凸优化问题，则解上面的两个式子得到的不一定是最优解。因为满足上面两个式子，仅仅是最优解的必要条件，不是充分条件(这里上述的两个求偏导然后置0的式子就是KKT条件，所以说KKT条件并不总是充要条件)。"
   ]
  },
  {
   "cell_type": "markdown",
   "metadata": {},
   "source": [
    "#### 2）只有一个不等式约束的最优化问题"
   ]
  },
  {
   "cell_type": "markdown",
   "metadata": {},
   "source": [
    "假设$f(x)$, $c(x)$是定义在$\\mathbf{R}^n$上的连续可微函数。考虑有约束的最优化问题：\n",
    "\n",
    "\\begin{align*}\n",
    "              & \\underset{x \\in \\mathbf{R}^n}{min}\\ \\ f(x)\\\\\n",
    "    s.t.\\ \\ \\ & c(x) \\le 0\\\\\n",
    "\\end{align*}"
   ]
  },
  {
   "cell_type": "markdown",
   "metadata": {},
   "source": [
    "该最优化问题也有对应的__几何意义__：在$c(x)\\le0$确定的$n-1$维的约束曲面上及其一侧寻找点$x^*$，使$f(x^*)$最小。"
   ]
  },
  {
   "cell_type": "markdown",
   "metadata": {},
   "source": [
    "假设最优解$x^*$存在：\n",
    "\n",
    "* 假设该最优点在曲面的一侧，即$c(x)<0$，则约束条件无效，直接令$\\nabla f(x)=0$即可。等价于对最优化$L$添加约束条件$c(x)<0$和$\\lambda=0$；\n",
    "* 假设该最优点在曲面上，即$c(x)=0$，则和此前的等式约束分析类似，不过需要$\\lambda>0$，否则两个梯度同向，还可以继续优化——等价于对最优化$L$添加约束条件$c(x)=0$和$\\lambda>0$；\n",
    "* 综合两种情况，可以直接添加三个条件以取消分类的情况：$\\lambda c(x)=0$，$\\lambda \\ge 0$, $c(x) \\le 0$ \n",
    "\n",
    "同样需要注意，添加后的KKT条件为：\n",
    "\n",
    "* $\\nabla_x L(x,\\lambda) = 0$\n",
    "* $\\lambda c(x)=0$\n",
    "* $\\lambda \\ge 0$\n",
    "* $c(x) \\le 0$\n",
    "\n",
    "仍然不总是充要条件，仅为必要条件。"
   ]
  },
  {
   "cell_type": "markdown",
   "metadata": {},
   "source": [
    "## 二. 对偶问题(dual problem)"
   ]
  },
  {
   "cell_type": "markdown",
   "metadata": {},
   "source": [
    "此前，我们将原始问题转化为等价的极小极大形式：\n",
    "\n",
    "$$\\underset{x}{min}\\ \\underset{\\alpha,\\beta;\\alpha_i \\ge 0}{max}\\ L(x,\\alpha,\\beta)$$"
   ]
  },
  {
   "cell_type": "markdown",
   "metadata": {},
   "source": [
    "我们将上式中的最大化与最小化颠倒顺序，得到：\n",
    "\n",
    "$$\\underset{\\alpha,\\beta;\\alpha_i \\ge 0}{max}\\ \\underset{x}{min}\\ L(x,\\alpha,\\beta)$$\n",
    "\n",
    "称为极大极小问题。我们可以将内层的最小化函数记做：\n",
    "\n",
    "$$\\theta_D(\\alpha,\\beta)= \\underset{x}{min}\\ L(x,\\alpha,\\beta)$$\n"
   ]
  },
  {
   "cell_type": "markdown",
   "metadata": {},
   "source": [
    "因此，极大极小问题为：\n",
    "\n",
    "$$\\underset{\\alpha,\\beta;\\alpha_i \\ge 0}{max} \\theta_D(\\alpha,\\beta)$$\n",
    "\n",
    "或将约束条件提出来，写作：\n",
    "\n",
    "\n",
    "\\begin{align*}\n",
    "              & \\underset{\\alpha,\\beta}{max}\\ \\ \\theta_D(\\alpha,\\beta)\\\\\n",
    "    s.t.\\ \\ \\ & \\alpha_i \\ge 0,\\quad i=1,2,\\cdots,k\\\\\n",
    "\\end{align*}\n",
    "\n",
    "上述颠倒顺序后的最优化问题，我们称之为原始问题的__对偶问题__。"
   ]
  },
  {
   "cell_type": "markdown",
   "metadata": {},
   "source": [
    "最后，我们把对偶问题的最优值记做$d^*$，即$d^* = \\underset{\\alpha,\\beta;\\alpha_i \\ge 0}{max}\\ \\theta_D(\\alpha,\\beta)$"
   ]
  },
  {
   "cell_type": "markdown",
   "metadata": {},
   "source": [
    "## 三. primal与dual的关系"
   ]
  },
  {
   "cell_type": "markdown",
   "metadata": {},
   "source": [
    "### 1. 弱对偶关系"
   ]
  },
  {
   "cell_type": "markdown",
   "metadata": {},
   "source": [
    "> 总是成立，对偶问题的最优值是原始问题的下确界。"
   ]
  },
  {
   "cell_type": "markdown",
   "metadata": {},
   "source": [
    "__定理1__：若primal和dual都有最优值，则必有：\n",
    "\n",
    "$$p^* \\ge d^*$$\n",
    "\n",
    "__证明__：\n",
    "\n",
    "对于__任何__固定的$\\alpha'$和$\\beta'$，一定有：\n",
    "\n",
    "$$\\underset{\\alpha,\\beta;\\alpha_i \\ge 0}{max}\\ L(x,\\alpha,\\beta) \\ge L(x,\\alpha',\\beta')$$\n",
    "\n",
    "所以也有：\n",
    "\n",
    "$$\\underset{x}{min}\\Big( \\underset{\\alpha,\\beta;\\alpha_i \\ge 0}{max}\\ L(x,\\alpha,\\beta)\\Big) \\ge \\underset{x}{min}\\Big( L(x,\\alpha',\\beta')\\Big)$$\n",
    "\n",
    "因为是对__任何__固定的$\\alpha'$和$\\beta'$，上式成立，所以有：\n",
    "\n",
    "$$\\underset{x}{min}\\Big( \\underset{\\alpha,\\beta;\\alpha_i \\ge 0}{max}\\ L(x,\\alpha,\\beta)\\Big) \\ge \\underset{\\alpha,\\beta;\\alpha_i \\ge 0}{max} \\underset{x}{min}\\Big( L(x,\\alpha',\\beta')\\Big)$$\n",
    "\n",
    "证毕。\n",
    "\n",
    "上面的这一关系被称为__弱对偶关系(weak duality)__。弱对偶关系总是成立。说明：对偶问题的最优值，给予原始问题的最优值一个__下界__。"
   ]
  },
  {
   "cell_type": "markdown",
   "metadata": {},
   "source": [
    "### 2. 强对偶关系"
   ]
  },
  {
   "cell_type": "markdown",
   "metadata": {},
   "source": [
    "> 满足一定条件时成立，对偶问题的最优值与原始问题的最优值相等。此时两者等价。"
   ]
  },
  {
   "cell_type": "markdown",
   "metadata": {},
   "source": [
    "强对偶关系成立的条件：\n",
    "\n",
    "* $f(x)$和$c_i(x)$是凸函数（convex）；\n",
    "* $h_j(x)$是仿射函数（linear constraint，林轩田）；\n",
    "* 存在$x$，对所有$i$有$c_i(x)<0$。\n",
    "\n",
    "则有：\n",
    "\n",
    "$$p^*=d^*=L(x^*,\\alpha^*,\\beta^*)$$\n",
    "\n",
    "其中$x^*$是原始问题的最优解，$\\alpha^*,\\beta^*$是对偶问题的最优解。"
   ]
  },
  {
   "cell_type": "markdown",
   "metadata": {},
   "source": [
    "### 3. KKT条件"
   ]
  },
  {
   "cell_type": "markdown",
   "metadata": {},
   "source": [
    "一般情况下的KKT条件是__必要条件__，即对于primal，最优解$x^*,\\alpha^*,\\beta^*$必须满足：\n",
    "\n",
    "\n",
    "\\begin{cases}\n",
    "    \\ \\nabla_x L(x^*,\\alpha^*,\\beta^*) &=0 \\\\\n",
    "    \\ \\alpha^*_ic_i(x^*)               &=0,     & i=1,2,\\cdots, k\\\\\n",
    "    \\ c_i(x^*)                         &\\le 0,  & i=1,2,\\cdots, k\\\\\n",
    "    \\ \\alpha^*_i                       &\\ge 0,  & i=1,2,\\cdots, k\\\\\n",
    "    \\ h_j(x^*)                         &=0,     & j=1,2,\\cdots, l\\\\\n",
    "\\end{cases}"
   ]
  },
  {
   "cell_type": "markdown",
   "metadata": {},
   "source": [
    "在强对偶关系(因为是凸优化问题)下，KKT条件是__充分必要条件__——意味着，解KKT条件，就能得到最优解。"
   ]
  }
 ],
 "metadata": {
  "kernelspec": {
   "display_name": "Python 3",
   "language": "python",
   "name": "python3"
  },
  "language_info": {
   "codemirror_mode": {
    "name": "ipython",
    "version": 3
   },
   "file_extension": ".py",
   "mimetype": "text/x-python",
   "name": "python",
   "nbconvert_exporter": "python",
   "pygments_lexer": "ipython3",
   "version": "3.6.5"
  }
 },
 "nbformat": 4,
 "nbformat_minor": 2
}
